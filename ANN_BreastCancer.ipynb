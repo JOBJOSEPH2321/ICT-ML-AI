{
  "nbformat": 4,
  "nbformat_minor": 0,
  "metadata": {
    "colab": {
      "provenance": [],
      "authorship_tag": "ABX9TyPd5Qvtu7f7Iam99a3yOpTu",
      "include_colab_link": true
    },
    "kernelspec": {
      "name": "python3",
      "display_name": "Python 3"
    },
    "language_info": {
      "name": "python"
    },
    "accelerator": "GPU",
    "gpuClass": "standard"
  },
  "cells": [
    {
      "cell_type": "markdown",
      "metadata": {
        "id": "view-in-github",
        "colab_type": "text"
      },
      "source": [
        "<a href=\"https://colab.research.google.com/github/JOBJOSEPH2321/ICT-ML-AI/blob/main/ANN_BreastCancer.ipynb\" target=\"_parent\"><img src=\"https://colab.research.google.com/assets/colab-badge.svg\" alt=\"Open In Colab\"/></a>"
      ]
    },
    {
      "cell_type": "code",
      "execution_count": 4,
      "metadata": {
        "id": "MOmI_YrivQ-L"
      },
      "outputs": [],
      "source": [
        "import pandas as pd\n"
      ]
    },
    {
      "cell_type": "code",
      "source": [
        "data=pd.read_csv(\"breastcancer.csv\")"
      ],
      "metadata": {
        "id": "6ySxZFiwvv39"
      },
      "execution_count": 5,
      "outputs": []
    },
    {
      "cell_type": "code",
      "source": [
        "data.head()"
      ],
      "metadata": {
        "colab": {
          "base_uri": "https://localhost:8080/",
          "height": 317
        },
        "id": "RrJ6OjKXv0Fd",
        "outputId": "97bfceb1-921a-45b8-bc0a-a53d612bf0c1"
      },
      "execution_count": 6,
      "outputs": [
        {
          "output_type": "execute_result",
          "data": {
            "text/plain": [
              "         id diagnosis  radius_mean  texture_mean  perimeter_mean  area_mean  \\\n",
              "0    842302         M        17.99         10.38          122.80     1001.0   \n",
              "1    842517         M        20.57         17.77          132.90     1326.0   \n",
              "2  84300903         M        19.69         21.25          130.00     1203.0   \n",
              "3  84348301         M        11.42         20.38           77.58      386.1   \n",
              "4  84358402         M        20.29         14.34          135.10     1297.0   \n",
              "\n",
              "   smoothness_mean  compactness_mean  concavity_mean  concave points_mean  \\\n",
              "0          0.11840           0.27760          0.3001              0.14710   \n",
              "1          0.08474           0.07864          0.0869              0.07017   \n",
              "2          0.10960           0.15990          0.1974              0.12790   \n",
              "3          0.14250           0.28390          0.2414              0.10520   \n",
              "4          0.10030           0.13280          0.1980              0.10430   \n",
              "\n",
              "   ...  texture_worst  perimeter_worst  area_worst  smoothness_worst  \\\n",
              "0  ...          17.33           184.60      2019.0            0.1622   \n",
              "1  ...          23.41           158.80      1956.0            0.1238   \n",
              "2  ...          25.53           152.50      1709.0            0.1444   \n",
              "3  ...          26.50            98.87       567.7            0.2098   \n",
              "4  ...          16.67           152.20      1575.0            0.1374   \n",
              "\n",
              "   compactness_worst  concavity_worst  concave points_worst  symmetry_worst  \\\n",
              "0             0.6656           0.7119                0.2654          0.4601   \n",
              "1             0.1866           0.2416                0.1860          0.2750   \n",
              "2             0.4245           0.4504                0.2430          0.3613   \n",
              "3             0.8663           0.6869                0.2575          0.6638   \n",
              "4             0.2050           0.4000                0.1625          0.2364   \n",
              "\n",
              "   fractal_dimension_worst  Unnamed: 32  \n",
              "0                  0.11890          NaN  \n",
              "1                  0.08902          NaN  \n",
              "2                  0.08758          NaN  \n",
              "3                  0.17300          NaN  \n",
              "4                  0.07678          NaN  \n",
              "\n",
              "[5 rows x 33 columns]"
            ],
            "text/html": [
              "\n",
              "  <div id=\"df-66d473d3-34f7-4741-967e-b1da4700b9c6\">\n",
              "    <div class=\"colab-df-container\">\n",
              "      <div>\n",
              "<style scoped>\n",
              "    .dataframe tbody tr th:only-of-type {\n",
              "        vertical-align: middle;\n",
              "    }\n",
              "\n",
              "    .dataframe tbody tr th {\n",
              "        vertical-align: top;\n",
              "    }\n",
              "\n",
              "    .dataframe thead th {\n",
              "        text-align: right;\n",
              "    }\n",
              "</style>\n",
              "<table border=\"1\" class=\"dataframe\">\n",
              "  <thead>\n",
              "    <tr style=\"text-align: right;\">\n",
              "      <th></th>\n",
              "      <th>id</th>\n",
              "      <th>diagnosis</th>\n",
              "      <th>radius_mean</th>\n",
              "      <th>texture_mean</th>\n",
              "      <th>perimeter_mean</th>\n",
              "      <th>area_mean</th>\n",
              "      <th>smoothness_mean</th>\n",
              "      <th>compactness_mean</th>\n",
              "      <th>concavity_mean</th>\n",
              "      <th>concave points_mean</th>\n",
              "      <th>...</th>\n",
              "      <th>texture_worst</th>\n",
              "      <th>perimeter_worst</th>\n",
              "      <th>area_worst</th>\n",
              "      <th>smoothness_worst</th>\n",
              "      <th>compactness_worst</th>\n",
              "      <th>concavity_worst</th>\n",
              "      <th>concave points_worst</th>\n",
              "      <th>symmetry_worst</th>\n",
              "      <th>fractal_dimension_worst</th>\n",
              "      <th>Unnamed: 32</th>\n",
              "    </tr>\n",
              "  </thead>\n",
              "  <tbody>\n",
              "    <tr>\n",
              "      <th>0</th>\n",
              "      <td>842302</td>\n",
              "      <td>M</td>\n",
              "      <td>17.99</td>\n",
              "      <td>10.38</td>\n",
              "      <td>122.80</td>\n",
              "      <td>1001.0</td>\n",
              "      <td>0.11840</td>\n",
              "      <td>0.27760</td>\n",
              "      <td>0.3001</td>\n",
              "      <td>0.14710</td>\n",
              "      <td>...</td>\n",
              "      <td>17.33</td>\n",
              "      <td>184.60</td>\n",
              "      <td>2019.0</td>\n",
              "      <td>0.1622</td>\n",
              "      <td>0.6656</td>\n",
              "      <td>0.7119</td>\n",
              "      <td>0.2654</td>\n",
              "      <td>0.4601</td>\n",
              "      <td>0.11890</td>\n",
              "      <td>NaN</td>\n",
              "    </tr>\n",
              "    <tr>\n",
              "      <th>1</th>\n",
              "      <td>842517</td>\n",
              "      <td>M</td>\n",
              "      <td>20.57</td>\n",
              "      <td>17.77</td>\n",
              "      <td>132.90</td>\n",
              "      <td>1326.0</td>\n",
              "      <td>0.08474</td>\n",
              "      <td>0.07864</td>\n",
              "      <td>0.0869</td>\n",
              "      <td>0.07017</td>\n",
              "      <td>...</td>\n",
              "      <td>23.41</td>\n",
              "      <td>158.80</td>\n",
              "      <td>1956.0</td>\n",
              "      <td>0.1238</td>\n",
              "      <td>0.1866</td>\n",
              "      <td>0.2416</td>\n",
              "      <td>0.1860</td>\n",
              "      <td>0.2750</td>\n",
              "      <td>0.08902</td>\n",
              "      <td>NaN</td>\n",
              "    </tr>\n",
              "    <tr>\n",
              "      <th>2</th>\n",
              "      <td>84300903</td>\n",
              "      <td>M</td>\n",
              "      <td>19.69</td>\n",
              "      <td>21.25</td>\n",
              "      <td>130.00</td>\n",
              "      <td>1203.0</td>\n",
              "      <td>0.10960</td>\n",
              "      <td>0.15990</td>\n",
              "      <td>0.1974</td>\n",
              "      <td>0.12790</td>\n",
              "      <td>...</td>\n",
              "      <td>25.53</td>\n",
              "      <td>152.50</td>\n",
              "      <td>1709.0</td>\n",
              "      <td>0.1444</td>\n",
              "      <td>0.4245</td>\n",
              "      <td>0.4504</td>\n",
              "      <td>0.2430</td>\n",
              "      <td>0.3613</td>\n",
              "      <td>0.08758</td>\n",
              "      <td>NaN</td>\n",
              "    </tr>\n",
              "    <tr>\n",
              "      <th>3</th>\n",
              "      <td>84348301</td>\n",
              "      <td>M</td>\n",
              "      <td>11.42</td>\n",
              "      <td>20.38</td>\n",
              "      <td>77.58</td>\n",
              "      <td>386.1</td>\n",
              "      <td>0.14250</td>\n",
              "      <td>0.28390</td>\n",
              "      <td>0.2414</td>\n",
              "      <td>0.10520</td>\n",
              "      <td>...</td>\n",
              "      <td>26.50</td>\n",
              "      <td>98.87</td>\n",
              "      <td>567.7</td>\n",
              "      <td>0.2098</td>\n",
              "      <td>0.8663</td>\n",
              "      <td>0.6869</td>\n",
              "      <td>0.2575</td>\n",
              "      <td>0.6638</td>\n",
              "      <td>0.17300</td>\n",
              "      <td>NaN</td>\n",
              "    </tr>\n",
              "    <tr>\n",
              "      <th>4</th>\n",
              "      <td>84358402</td>\n",
              "      <td>M</td>\n",
              "      <td>20.29</td>\n",
              "      <td>14.34</td>\n",
              "      <td>135.10</td>\n",
              "      <td>1297.0</td>\n",
              "      <td>0.10030</td>\n",
              "      <td>0.13280</td>\n",
              "      <td>0.1980</td>\n",
              "      <td>0.10430</td>\n",
              "      <td>...</td>\n",
              "      <td>16.67</td>\n",
              "      <td>152.20</td>\n",
              "      <td>1575.0</td>\n",
              "      <td>0.1374</td>\n",
              "      <td>0.2050</td>\n",
              "      <td>0.4000</td>\n",
              "      <td>0.1625</td>\n",
              "      <td>0.2364</td>\n",
              "      <td>0.07678</td>\n",
              "      <td>NaN</td>\n",
              "    </tr>\n",
              "  </tbody>\n",
              "</table>\n",
              "<p>5 rows × 33 columns</p>\n",
              "</div>\n",
              "      <button class=\"colab-df-convert\" onclick=\"convertToInteractive('df-66d473d3-34f7-4741-967e-b1da4700b9c6')\"\n",
              "              title=\"Convert this dataframe to an interactive table.\"\n",
              "              style=\"display:none;\">\n",
              "        \n",
              "  <svg xmlns=\"http://www.w3.org/2000/svg\" height=\"24px\"viewBox=\"0 0 24 24\"\n",
              "       width=\"24px\">\n",
              "    <path d=\"M0 0h24v24H0V0z\" fill=\"none\"/>\n",
              "    <path d=\"M18.56 5.44l.94 2.06.94-2.06 2.06-.94-2.06-.94-.94-2.06-.94 2.06-2.06.94zm-11 1L8.5 8.5l.94-2.06 2.06-.94-2.06-.94L8.5 2.5l-.94 2.06-2.06.94zm10 10l.94 2.06.94-2.06 2.06-.94-2.06-.94-.94-2.06-.94 2.06-2.06.94z\"/><path d=\"M17.41 7.96l-1.37-1.37c-.4-.4-.92-.59-1.43-.59-.52 0-1.04.2-1.43.59L10.3 9.45l-7.72 7.72c-.78.78-.78 2.05 0 2.83L4 21.41c.39.39.9.59 1.41.59.51 0 1.02-.2 1.41-.59l7.78-7.78 2.81-2.81c.8-.78.8-2.07 0-2.86zM5.41 20L4 18.59l7.72-7.72 1.47 1.35L5.41 20z\"/>\n",
              "  </svg>\n",
              "      </button>\n",
              "      \n",
              "  <style>\n",
              "    .colab-df-container {\n",
              "      display:flex;\n",
              "      flex-wrap:wrap;\n",
              "      gap: 12px;\n",
              "    }\n",
              "\n",
              "    .colab-df-convert {\n",
              "      background-color: #E8F0FE;\n",
              "      border: none;\n",
              "      border-radius: 50%;\n",
              "      cursor: pointer;\n",
              "      display: none;\n",
              "      fill: #1967D2;\n",
              "      height: 32px;\n",
              "      padding: 0 0 0 0;\n",
              "      width: 32px;\n",
              "    }\n",
              "\n",
              "    .colab-df-convert:hover {\n",
              "      background-color: #E2EBFA;\n",
              "      box-shadow: 0px 1px 2px rgba(60, 64, 67, 0.3), 0px 1px 3px 1px rgba(60, 64, 67, 0.15);\n",
              "      fill: #174EA6;\n",
              "    }\n",
              "\n",
              "    [theme=dark] .colab-df-convert {\n",
              "      background-color: #3B4455;\n",
              "      fill: #D2E3FC;\n",
              "    }\n",
              "\n",
              "    [theme=dark] .colab-df-convert:hover {\n",
              "      background-color: #434B5C;\n",
              "      box-shadow: 0px 1px 3px 1px rgba(0, 0, 0, 0.15);\n",
              "      filter: drop-shadow(0px 1px 2px rgba(0, 0, 0, 0.3));\n",
              "      fill: #FFFFFF;\n",
              "    }\n",
              "  </style>\n",
              "\n",
              "      <script>\n",
              "        const buttonEl =\n",
              "          document.querySelector('#df-66d473d3-34f7-4741-967e-b1da4700b9c6 button.colab-df-convert');\n",
              "        buttonEl.style.display =\n",
              "          google.colab.kernel.accessAllowed ? 'block' : 'none';\n",
              "\n",
              "        async function convertToInteractive(key) {\n",
              "          const element = document.querySelector('#df-66d473d3-34f7-4741-967e-b1da4700b9c6');\n",
              "          const dataTable =\n",
              "            await google.colab.kernel.invokeFunction('convertToInteractive',\n",
              "                                                     [key], {});\n",
              "          if (!dataTable) return;\n",
              "\n",
              "          const docLinkHtml = 'Like what you see? Visit the ' +\n",
              "            '<a target=\"_blank\" href=https://colab.research.google.com/notebooks/data_table.ipynb>data table notebook</a>'\n",
              "            + ' to learn more about interactive tables.';\n",
              "          element.innerHTML = '';\n",
              "          dataTable['output_type'] = 'display_data';\n",
              "          await google.colab.output.renderOutput(dataTable, element);\n",
              "          const docLink = document.createElement('div');\n",
              "          docLink.innerHTML = docLinkHtml;\n",
              "          element.appendChild(docLink);\n",
              "        }\n",
              "      </script>\n",
              "    </div>\n",
              "  </div>\n",
              "  "
            ]
          },
          "metadata": {},
          "execution_count": 6
        }
      ]
    },
    {
      "cell_type": "code",
      "source": [
        "data.shape"
      ],
      "metadata": {
        "colab": {
          "base_uri": "https://localhost:8080/"
        },
        "id": "sxjILJq_v4JA",
        "outputId": "08f66fd7-4381-4376-8015-a1ce56bbc9fa"
      },
      "execution_count": 7,
      "outputs": [
        {
          "output_type": "execute_result",
          "data": {
            "text/plain": [
              "(569, 33)"
            ]
          },
          "metadata": {},
          "execution_count": 7
        }
      ]
    },
    {
      "cell_type": "code",
      "source": [
        "data.columns"
      ],
      "metadata": {
        "colab": {
          "base_uri": "https://localhost:8080/"
        },
        "id": "ZilI3zYXv3sR",
        "outputId": "189e1238-21ef-4328-c3d6-75dfc63d4f54"
      },
      "execution_count": 8,
      "outputs": [
        {
          "output_type": "execute_result",
          "data": {
            "text/plain": [
              "Index(['id', 'diagnosis', 'radius_mean', 'texture_mean', 'perimeter_mean',\n",
              "       'area_mean', 'smoothness_mean', 'compactness_mean', 'concavity_mean',\n",
              "       'concave points_mean', 'symmetry_mean', 'fractal_dimension_mean',\n",
              "       'radius_se', 'texture_se', 'perimeter_se', 'area_se', 'smoothness_se',\n",
              "       'compactness_se', 'concavity_se', 'concave points_se', 'symmetry_se',\n",
              "       'fractal_dimension_se', 'radius_worst', 'texture_worst',\n",
              "       'perimeter_worst', 'area_worst', 'smoothness_worst',\n",
              "       'compactness_worst', 'concavity_worst', 'concave points_worst',\n",
              "       'symmetry_worst', 'fractal_dimension_worst', 'Unnamed: 32'],\n",
              "      dtype='object')"
            ]
          },
          "metadata": {},
          "execution_count": 8
        }
      ]
    },
    {
      "cell_type": "code",
      "source": [
        "data.isna().sum()"
      ],
      "metadata": {
        "colab": {
          "base_uri": "https://localhost:8080/"
        },
        "id": "XSk25JEQwBnk",
        "outputId": "118ed370-db64-4f47-d3f7-ceaaafbbe944"
      },
      "execution_count": 9,
      "outputs": [
        {
          "output_type": "execute_result",
          "data": {
            "text/plain": [
              "id                           0\n",
              "diagnosis                    0\n",
              "radius_mean                  0\n",
              "texture_mean                 0\n",
              "perimeter_mean               0\n",
              "area_mean                    0\n",
              "smoothness_mean              0\n",
              "compactness_mean             0\n",
              "concavity_mean               0\n",
              "concave points_mean          0\n",
              "symmetry_mean                0\n",
              "fractal_dimension_mean       0\n",
              "radius_se                    0\n",
              "texture_se                   0\n",
              "perimeter_se                 0\n",
              "area_se                      0\n",
              "smoothness_se                0\n",
              "compactness_se               0\n",
              "concavity_se                 0\n",
              "concave points_se            0\n",
              "symmetry_se                  0\n",
              "fractal_dimension_se         0\n",
              "radius_worst                 0\n",
              "texture_worst                0\n",
              "perimeter_worst              0\n",
              "area_worst                   0\n",
              "smoothness_worst             0\n",
              "compactness_worst            0\n",
              "concavity_worst              0\n",
              "concave points_worst         0\n",
              "symmetry_worst               0\n",
              "fractal_dimension_worst      0\n",
              "Unnamed: 32                569\n",
              "dtype: int64"
            ]
          },
          "metadata": {},
          "execution_count": 9
        }
      ]
    },
    {
      "cell_type": "code",
      "source": [
        "x=data[['radius_mean', 'texture_mean', 'perimeter_mean',\n",
        "       'area_mean', 'smoothness_mean', 'compactness_mean', 'concavity_mean',\n",
        "       'concave points_mean', 'symmetry_mean', 'fractal_dimension_mean',\n",
        "       'radius_se', 'texture_se', 'perimeter_se', 'area_se', 'smoothness_se',\n",
        "       'compactness_se', 'concavity_se', 'concave points_se', 'symmetry_se',\n",
        "       'fractal_dimension_se', 'radius_worst', 'texture_worst',\n",
        "       'perimeter_worst', 'area_worst', 'smoothness_worst',\n",
        "       'compactness_worst', 'concavity_worst', 'concave points_worst',\n",
        "       'symmetry_worst', 'fractal_dimension_worst']]"
      ],
      "metadata": {
        "id": "EEsbK1nowFRe"
      },
      "execution_count": 10,
      "outputs": []
    },
    {
      "cell_type": "code",
      "source": [
        "y=data[\"diagnosis\"]"
      ],
      "metadata": {
        "id": "tYe7i96lwUlo"
      },
      "execution_count": 11,
      "outputs": []
    },
    {
      "cell_type": "code",
      "source": [
        "y.value_counts()"
      ],
      "metadata": {
        "colab": {
          "base_uri": "https://localhost:8080/"
        },
        "id": "Zn6n8uBcwYWY",
        "outputId": "6d02e731-6fe6-4bae-d26e-67dde27ab3bc"
      },
      "execution_count": 12,
      "outputs": [
        {
          "output_type": "execute_result",
          "data": {
            "text/plain": [
              "B    357\n",
              "M    212\n",
              "Name: diagnosis, dtype: int64"
            ]
          },
          "metadata": {},
          "execution_count": 12
        }
      ]
    },
    {
      "cell_type": "code",
      "source": [
        "y=y.map({\"B\":0,\"M\":1})"
      ],
      "metadata": {
        "id": "GJ0am30pwbQ9"
      },
      "execution_count": 13,
      "outputs": []
    },
    {
      "cell_type": "code",
      "source": [
        "from sklearn.model_selection import train_test_split"
      ],
      "metadata": {
        "id": "xT78nzPZwnXw"
      },
      "execution_count": 14,
      "outputs": []
    },
    {
      "cell_type": "code",
      "source": [
        "x_train , x_test , y_train , y_test = train_test_split(x,y,test_size=0.2,random_state=134)"
      ],
      "metadata": {
        "id": "qxGmt-gJwxqT"
      },
      "execution_count": 15,
      "outputs": []
    },
    {
      "cell_type": "code",
      "source": [
        "import tensorflow as tf\n",
        "from tensorflow.keras.models import Sequential"
      ],
      "metadata": {
        "id": "72yrcQfRxEUd"
      },
      "execution_count": 22,
      "outputs": []
    },
    {
      "cell_type": "code",
      "source": [
        "from tensorflow.keras.layers import Dense"
      ],
      "metadata": {
        "id": "CVBwIao8xMfq"
      },
      "execution_count": 17,
      "outputs": []
    },
    {
      "cell_type": "code",
      "source": [
        "model1= Sequential()\n",
        "model1.add(Dense(32,input_shape=(30,),activation=\"relu\"))\n",
        "model1.add(Dense(32,activation=\"relu\"))\n",
        "model1.add(Dense(1,activation=\"sigmoid\"))\n",
        "model1.summary()"
      ],
      "metadata": {
        "colab": {
          "base_uri": "https://localhost:8080/"
        },
        "id": "1hiCtZn4xSZ7",
        "outputId": "93524750-b0f9-468d-db0c-95d0edd6eea3"
      },
      "execution_count": 18,
      "outputs": [
        {
          "output_type": "stream",
          "name": "stdout",
          "text": [
            "Model: \"sequential\"\n",
            "_________________________________________________________________\n",
            " Layer (type)                Output Shape              Param #   \n",
            "=================================================================\n",
            " dense (Dense)               (None, 32)                992       \n",
            "                                                                 \n",
            " dense_1 (Dense)             (None, 32)                1056      \n",
            "                                                                 \n",
            " dense_2 (Dense)             (None, 1)                 33        \n",
            "                                                                 \n",
            "=================================================================\n",
            "Total params: 2,081\n",
            "Trainable params: 2,081\n",
            "Non-trainable params: 0\n",
            "_________________________________________________________________\n"
          ]
        }
      ]
    },
    {
      "cell_type": "code",
      "source": [
        "model1.compile(optimizer = \"sgd\", loss = \"binary_crossentropy\", metrics = [\"accuracy\"])\n",
        "model1.fit(x_train,y_train,epochs=10)"
      ],
      "metadata": {
        "colab": {
          "base_uri": "https://localhost:8080/"
        },
        "id": "3b_fUnHWxx4F",
        "outputId": "377ea77b-c6ac-4e67-df80-17ccb47e34ef"
      },
      "execution_count": 19,
      "outputs": [
        {
          "output_type": "stream",
          "name": "stdout",
          "text": [
            "Epoch 1/10\n",
            "15/15 [==============================] - 5s 4ms/step - loss: 342.6784 - accuracy: 0.5780\n",
            "Epoch 2/10\n",
            "15/15 [==============================] - 0s 3ms/step - loss: 0.6842 - accuracy: 0.6308\n",
            "Epoch 3/10\n",
            "15/15 [==============================] - 0s 4ms/step - loss: 0.6791 - accuracy: 0.6308\n",
            "Epoch 4/10\n",
            "15/15 [==============================] - 0s 3ms/step - loss: 0.6754 - accuracy: 0.6308\n",
            "Epoch 5/10\n",
            "15/15 [==============================] - 0s 3ms/step - loss: 0.6723 - accuracy: 0.6308\n",
            "Epoch 6/10\n",
            "15/15 [==============================] - 0s 3ms/step - loss: 0.6700 - accuracy: 0.6308\n",
            "Epoch 7/10\n",
            "15/15 [==============================] - 0s 3ms/step - loss: 0.6682 - accuracy: 0.6308\n",
            "Epoch 8/10\n",
            "15/15 [==============================] - 0s 3ms/step - loss: 0.6663 - accuracy: 0.6308\n",
            "Epoch 9/10\n",
            "15/15 [==============================] - 0s 3ms/step - loss: 0.6651 - accuracy: 0.6308\n",
            "Epoch 10/10\n",
            "15/15 [==============================] - 0s 4ms/step - loss: 0.6641 - accuracy: 0.6308\n"
          ]
        },
        {
          "output_type": "execute_result",
          "data": {
            "text/plain": [
              "<keras.callbacks.History at 0x7f0ef0047370>"
            ]
          },
          "metadata": {},
          "execution_count": 19
        }
      ]
    },
    {
      "cell_type": "code",
      "source": [
        "##Adding more hidden layers\n",
        "\n",
        "model1.add(tf.keras.layers.Dense(units=8, activation='relu'))\n",
        "model1.add(tf.keras.layers.Dense(units=2, activation='relu'))\n",
        "##Compiling\n",
        "model1.compile(optimizer='adam', loss='binary_crossentropy', metrics=['accuracy'])\n",
        "model1.fit(x_train, y_train, epochs=50, batch_size=32, validation_data=(x_test, y_test))"
      ],
      "metadata": {
        "id": "zHnioJaayCMI",
        "colab": {
          "base_uri": "https://localhost:8080/"
        },
        "outputId": "810ef44d-7d49-4fce-9bea-c07a0a700a05"
      },
      "execution_count": 27,
      "outputs": [
        {
          "output_type": "stream",
          "name": "stdout",
          "text": [
            "Epoch 1/50\n",
            "15/15 [==============================] - 5s 26ms/step - loss: 5.6954 - accuracy: 0.6308 - val_loss: 5.9535 - val_accuracy: 0.6140\n",
            "Epoch 2/50\n",
            "15/15 [==============================] - 0s 9ms/step - loss: 5.6954 - accuracy: 0.6308 - val_loss: 5.9535 - val_accuracy: 0.6140\n",
            "Epoch 3/50\n",
            "15/15 [==============================] - 0s 8ms/step - loss: 5.6954 - accuracy: 0.6308 - val_loss: 5.9535 - val_accuracy: 0.6140\n",
            "Epoch 4/50\n",
            "15/15 [==============================] - 0s 8ms/step - loss: 5.6954 - accuracy: 0.6308 - val_loss: 5.9535 - val_accuracy: 0.6140\n",
            "Epoch 5/50\n",
            "15/15 [==============================] - 0s 8ms/step - loss: 5.6954 - accuracy: 0.6308 - val_loss: 5.9535 - val_accuracy: 0.6140\n",
            "Epoch 6/50\n",
            "15/15 [==============================] - 0s 7ms/step - loss: 5.6954 - accuracy: 0.6308 - val_loss: 5.9535 - val_accuracy: 0.6140\n",
            "Epoch 7/50\n",
            "15/15 [==============================] - 0s 8ms/step - loss: 5.6954 - accuracy: 0.6308 - val_loss: 5.9535 - val_accuracy: 0.6140\n",
            "Epoch 8/50\n",
            "15/15 [==============================] - 0s 8ms/step - loss: 5.6954 - accuracy: 0.6308 - val_loss: 5.9535 - val_accuracy: 0.6140\n",
            "Epoch 9/50\n",
            "15/15 [==============================] - 0s 8ms/step - loss: 5.6954 - accuracy: 0.6308 - val_loss: 5.9535 - val_accuracy: 0.6140\n",
            "Epoch 10/50\n",
            "15/15 [==============================] - 0s 8ms/step - loss: 5.6954 - accuracy: 0.6308 - val_loss: 5.9535 - val_accuracy: 0.6140\n",
            "Epoch 11/50\n",
            "15/15 [==============================] - 0s 7ms/step - loss: 5.6954 - accuracy: 0.6308 - val_loss: 5.9535 - val_accuracy: 0.6140\n",
            "Epoch 12/50\n",
            "15/15 [==============================] - 0s 7ms/step - loss: 5.6954 - accuracy: 0.6308 - val_loss: 5.9535 - val_accuracy: 0.6140\n",
            "Epoch 13/50\n",
            "15/15 [==============================] - 0s 8ms/step - loss: 5.6954 - accuracy: 0.6308 - val_loss: 5.9535 - val_accuracy: 0.6140\n",
            "Epoch 14/50\n",
            "15/15 [==============================] - 0s 8ms/step - loss: 5.6954 - accuracy: 0.6308 - val_loss: 5.9535 - val_accuracy: 0.6140\n",
            "Epoch 15/50\n",
            "15/15 [==============================] - 0s 8ms/step - loss: 5.6954 - accuracy: 0.6308 - val_loss: 5.9535 - val_accuracy: 0.6140\n",
            "Epoch 16/50\n",
            "15/15 [==============================] - 0s 9ms/step - loss: 5.6954 - accuracy: 0.6308 - val_loss: 5.9535 - val_accuracy: 0.6140\n",
            "Epoch 17/50\n",
            "15/15 [==============================] - 0s 8ms/step - loss: 5.6954 - accuracy: 0.6308 - val_loss: 5.9535 - val_accuracy: 0.6140\n",
            "Epoch 18/50\n",
            "15/15 [==============================] - 0s 8ms/step - loss: 5.6954 - accuracy: 0.6308 - val_loss: 5.9535 - val_accuracy: 0.6140\n",
            "Epoch 19/50\n",
            "15/15 [==============================] - 0s 8ms/step - loss: 5.6954 - accuracy: 0.6308 - val_loss: 5.9535 - val_accuracy: 0.6140\n",
            "Epoch 20/50\n",
            "15/15 [==============================] - 0s 8ms/step - loss: 5.6954 - accuracy: 0.6308 - val_loss: 5.9535 - val_accuracy: 0.6140\n",
            "Epoch 21/50\n",
            "15/15 [==============================] - 0s 8ms/step - loss: 5.6954 - accuracy: 0.6308 - val_loss: 5.9535 - val_accuracy: 0.6140\n",
            "Epoch 22/50\n",
            "15/15 [==============================] - 0s 8ms/step - loss: 5.6954 - accuracy: 0.6308 - val_loss: 5.9535 - val_accuracy: 0.6140\n",
            "Epoch 23/50\n",
            "15/15 [==============================] - 0s 9ms/step - loss: 5.6954 - accuracy: 0.6308 - val_loss: 5.9535 - val_accuracy: 0.6140\n",
            "Epoch 24/50\n",
            "15/15 [==============================] - 0s 8ms/step - loss: 5.6954 - accuracy: 0.6308 - val_loss: 5.9535 - val_accuracy: 0.6140\n",
            "Epoch 25/50\n",
            "15/15 [==============================] - 0s 8ms/step - loss: 5.6954 - accuracy: 0.6308 - val_loss: 5.9535 - val_accuracy: 0.6140\n",
            "Epoch 26/50\n",
            "15/15 [==============================] - 0s 9ms/step - loss: 5.6954 - accuracy: 0.6308 - val_loss: 5.9535 - val_accuracy: 0.6140\n",
            "Epoch 27/50\n",
            "15/15 [==============================] - 0s 8ms/step - loss: 5.6954 - accuracy: 0.6308 - val_loss: 5.9535 - val_accuracy: 0.6140\n",
            "Epoch 28/50\n",
            "15/15 [==============================] - 0s 8ms/step - loss: 5.6954 - accuracy: 0.6308 - val_loss: 5.9535 - val_accuracy: 0.6140\n",
            "Epoch 29/50\n",
            "15/15 [==============================] - 0s 8ms/step - loss: 5.6954 - accuracy: 0.6308 - val_loss: 5.9535 - val_accuracy: 0.6140\n",
            "Epoch 30/50\n",
            "15/15 [==============================] - 0s 9ms/step - loss: 5.6954 - accuracy: 0.6308 - val_loss: 5.9535 - val_accuracy: 0.6140\n",
            "Epoch 31/50\n",
            "15/15 [==============================] - 0s 9ms/step - loss: 5.6954 - accuracy: 0.6308 - val_loss: 5.9535 - val_accuracy: 0.6140\n",
            "Epoch 32/50\n",
            "15/15 [==============================] - 0s 9ms/step - loss: 5.6954 - accuracy: 0.6308 - val_loss: 5.9535 - val_accuracy: 0.6140\n",
            "Epoch 33/50\n",
            "15/15 [==============================] - 0s 7ms/step - loss: 5.6954 - accuracy: 0.6308 - val_loss: 5.9535 - val_accuracy: 0.6140\n",
            "Epoch 34/50\n",
            "15/15 [==============================] - 0s 8ms/step - loss: 5.6954 - accuracy: 0.6308 - val_loss: 5.9535 - val_accuracy: 0.6140\n",
            "Epoch 35/50\n",
            "15/15 [==============================] - 0s 8ms/step - loss: 5.6954 - accuracy: 0.6308 - val_loss: 5.9535 - val_accuracy: 0.6140\n",
            "Epoch 36/50\n",
            "15/15 [==============================] - 0s 9ms/step - loss: 5.6954 - accuracy: 0.6308 - val_loss: 5.9535 - val_accuracy: 0.6140\n",
            "Epoch 37/50\n",
            "15/15 [==============================] - 0s 8ms/step - loss: 5.6954 - accuracy: 0.6308 - val_loss: 5.9535 - val_accuracy: 0.6140\n",
            "Epoch 38/50\n",
            "15/15 [==============================] - 0s 8ms/step - loss: 5.6954 - accuracy: 0.6308 - val_loss: 5.9535 - val_accuracy: 0.6140\n",
            "Epoch 39/50\n",
            "15/15 [==============================] - 0s 7ms/step - loss: 5.6954 - accuracy: 0.6308 - val_loss: 5.9535 - val_accuracy: 0.6140\n",
            "Epoch 40/50\n",
            "15/15 [==============================] - 0s 8ms/step - loss: 5.6954 - accuracy: 0.6308 - val_loss: 5.9535 - val_accuracy: 0.6140\n",
            "Epoch 41/50\n",
            "15/15 [==============================] - 0s 8ms/step - loss: 5.6954 - accuracy: 0.6308 - val_loss: 5.9535 - val_accuracy: 0.6140\n",
            "Epoch 42/50\n",
            "15/15 [==============================] - 0s 9ms/step - loss: 5.6954 - accuracy: 0.6308 - val_loss: 5.9535 - val_accuracy: 0.6140\n",
            "Epoch 43/50\n",
            "15/15 [==============================] - 0s 9ms/step - loss: 5.6954 - accuracy: 0.6308 - val_loss: 5.9535 - val_accuracy: 0.6140\n",
            "Epoch 44/50\n",
            "15/15 [==============================] - 0s 8ms/step - loss: 5.6954 - accuracy: 0.6308 - val_loss: 5.9535 - val_accuracy: 0.6140\n",
            "Epoch 45/50\n",
            "15/15 [==============================] - 0s 9ms/step - loss: 5.6954 - accuracy: 0.6308 - val_loss: 5.9535 - val_accuracy: 0.6140\n",
            "Epoch 46/50\n",
            "15/15 [==============================] - 0s 8ms/step - loss: 5.6954 - accuracy: 0.6308 - val_loss: 5.9535 - val_accuracy: 0.6140\n",
            "Epoch 47/50\n",
            "15/15 [==============================] - 0s 8ms/step - loss: 5.6954 - accuracy: 0.6308 - val_loss: 5.9535 - val_accuracy: 0.6140\n",
            "Epoch 48/50\n",
            "15/15 [==============================] - 0s 8ms/step - loss: 5.6954 - accuracy: 0.6308 - val_loss: 5.9535 - val_accuracy: 0.6140\n",
            "Epoch 49/50\n",
            "15/15 [==============================] - 0s 8ms/step - loss: 5.6954 - accuracy: 0.6308 - val_loss: 5.9535 - val_accuracy: 0.6140\n",
            "Epoch 50/50\n",
            "15/15 [==============================] - 0s 9ms/step - loss: 5.6954 - accuracy: 0.6308 - val_loss: 5.9535 - val_accuracy: 0.6140\n"
          ]
        },
        {
          "output_type": "execute_result",
          "data": {
            "text/plain": [
              "<keras.callbacks.History at 0x7f0e61fe7a90>"
            ]
          },
          "metadata": {},
          "execution_count": 27
        }
      ]
    },
    {
      "cell_type": "code",
      "source": [
        "### Changing the activation functions\n",
        "##(1)\n",
        "model2= Sequential()\n",
        "model2.add(Dense(32,input_shape=(30,),activation=\"sigmoid\"))\n",
        "model2.add(Dense(32,activation=\"sigmoid\"))\n",
        "model2.add(Dense(1,activation=\"sigmoid\"))\n",
        "model2.summary()\n",
        "\n",
        "model2.compile(optimizer = \"sgd\", loss = \"binary_crossentropy\", metrics = [\"accuracy\"])\n",
        "model2.fit(x_train,y_train,epochs=10)"
      ],
      "metadata": {
        "colab": {
          "base_uri": "https://localhost:8080/"
        },
        "id": "91FLW-ATtoBI",
        "outputId": "63dc3c66-f178-44f9-9527-b0f790162c1e"
      },
      "execution_count": 29,
      "outputs": [
        {
          "output_type": "stream",
          "name": "stdout",
          "text": [
            "Model: \"sequential_2\"\n",
            "_________________________________________________________________\n",
            " Layer (type)                Output Shape              Param #   \n",
            "=================================================================\n",
            " dense_16 (Dense)            (None, 32)                992       \n",
            "                                                                 \n",
            " dense_17 (Dense)            (None, 32)                1056      \n",
            "                                                                 \n",
            " dense_18 (Dense)            (None, 1)                 33        \n",
            "                                                                 \n",
            "=================================================================\n",
            "Total params: 2,081\n",
            "Trainable params: 2,081\n",
            "Non-trainable params: 0\n",
            "_________________________________________________________________\n",
            "Epoch 1/10\n",
            "15/15 [==============================] - 1s 3ms/step - loss: 0.9971 - accuracy: 0.3692\n",
            "Epoch 2/10\n",
            "15/15 [==============================] - 0s 4ms/step - loss: 0.8184 - accuracy: 0.3692\n",
            "Epoch 3/10\n",
            "15/15 [==============================] - 0s 3ms/step - loss: 0.7309 - accuracy: 0.3692\n",
            "Epoch 4/10\n",
            "15/15 [==============================] - 0s 3ms/step - loss: 0.6909 - accuracy: 0.5253\n",
            "Epoch 5/10\n",
            "15/15 [==============================] - 0s 3ms/step - loss: 0.6682 - accuracy: 0.6418\n",
            "Epoch 6/10\n",
            "15/15 [==============================] - 0s 3ms/step - loss: 0.6574 - accuracy: 0.6308\n",
            "Epoch 7/10\n",
            "15/15 [==============================] - 0s 3ms/step - loss: 0.6519 - accuracy: 0.6308\n",
            "Epoch 8/10\n",
            "15/15 [==============================] - 0s 3ms/step - loss: 0.6487 - accuracy: 0.6308\n",
            "Epoch 9/10\n",
            "15/15 [==============================] - 0s 3ms/step - loss: 0.6473 - accuracy: 0.6308\n",
            "Epoch 10/10\n",
            "15/15 [==============================] - 0s 3ms/step - loss: 0.6436 - accuracy: 0.6308\n"
          ]
        },
        {
          "output_type": "execute_result",
          "data": {
            "text/plain": [
              "<keras.callbacks.History at 0x7f0e618834c0>"
            ]
          },
          "metadata": {},
          "execution_count": 29
        }
      ]
    },
    {
      "cell_type": "code",
      "source": [
        "##(2)\n",
        "model = tf.keras.Sequential([\n",
        "    tf.keras.layers.Dense(units=32, activation='tanh', input_shape=(x_train.shape[1],)),\n",
        "    tf.keras.layers.Dense(units=16, activation='tanh'),\n",
        "    tf.keras.layers.Dense(units=1, activation='sigmoid')\n",
        "])\n",
        "\n",
        "# Compile the model\n",
        "model.compile(optimizer='adam', loss='binary_crossentropy', metrics=['accuracy'])\n",
        "\n",
        "# Train the model\n",
        "model.fit(x_train, y_train, epochs=50, batch_size=32, validation_data=(x_test, y_test))"
      ],
      "metadata": {
        "colab": {
          "base_uri": "https://localhost:8080/"
        },
        "id": "tgtCsu0ounFr",
        "outputId": "2f9ca47b-99e6-4f23-d462-b8c2d436a118"
      },
      "execution_count": 31,
      "outputs": [
        {
          "output_type": "stream",
          "name": "stdout",
          "text": [
            "Epoch 1/50\n",
            "15/15 [==============================] - 2s 17ms/step - loss: 0.9501 - accuracy: 0.3824 - val_loss: 0.6469 - val_accuracy: 0.7105\n",
            "Epoch 2/50\n",
            "15/15 [==============================] - 0s 7ms/step - loss: 0.5808 - accuracy: 0.7736 - val_loss: 0.5447 - val_accuracy: 0.8070\n",
            "Epoch 3/50\n",
            "15/15 [==============================] - 0s 5ms/step - loss: 0.5296 - accuracy: 0.8132 - val_loss: 0.5333 - val_accuracy: 0.7456\n",
            "Epoch 4/50\n",
            "15/15 [==============================] - 0s 5ms/step - loss: 0.5090 - accuracy: 0.7890 - val_loss: 0.4948 - val_accuracy: 0.7807\n",
            "Epoch 5/50\n",
            "15/15 [==============================] - 0s 5ms/step - loss: 0.4658 - accuracy: 0.8132 - val_loss: 0.4670 - val_accuracy: 0.8509\n",
            "Epoch 6/50\n",
            "15/15 [==============================] - 0s 6ms/step - loss: 0.4249 - accuracy: 0.8264 - val_loss: 0.4136 - val_accuracy: 0.8246\n",
            "Epoch 7/50\n",
            "15/15 [==============================] - 0s 5ms/step - loss: 0.4129 - accuracy: 0.8462 - val_loss: 0.3783 - val_accuracy: 0.8509\n",
            "Epoch 8/50\n",
            "15/15 [==============================] - 0s 6ms/step - loss: 0.3797 - accuracy: 0.8813 - val_loss: 0.3748 - val_accuracy: 0.8596\n",
            "Epoch 9/50\n",
            "15/15 [==============================] - 0s 6ms/step - loss: 0.3400 - accuracy: 0.9011 - val_loss: 0.3439 - val_accuracy: 0.8684\n",
            "Epoch 10/50\n",
            "15/15 [==============================] - 0s 5ms/step - loss: 0.3241 - accuracy: 0.8945 - val_loss: 0.3291 - val_accuracy: 0.8684\n",
            "Epoch 11/50\n",
            "15/15 [==============================] - 0s 5ms/step - loss: 0.3166 - accuracy: 0.8703 - val_loss: 0.3023 - val_accuracy: 0.8772\n",
            "Epoch 12/50\n",
            "15/15 [==============================] - 0s 6ms/step - loss: 0.2971 - accuracy: 0.8879 - val_loss: 0.3152 - val_accuracy: 0.8772\n",
            "Epoch 13/50\n",
            "15/15 [==============================] - 0s 5ms/step - loss: 0.2966 - accuracy: 0.9011 - val_loss: 0.3186 - val_accuracy: 0.8772\n",
            "Epoch 14/50\n",
            "15/15 [==============================] - 0s 6ms/step - loss: 0.2911 - accuracy: 0.9099 - val_loss: 0.2839 - val_accuracy: 0.8860\n",
            "Epoch 15/50\n",
            "15/15 [==============================] - 0s 5ms/step - loss: 0.2875 - accuracy: 0.8967 - val_loss: 0.2847 - val_accuracy: 0.8772\n",
            "Epoch 16/50\n",
            "15/15 [==============================] - 0s 6ms/step - loss: 0.2673 - accuracy: 0.9033 - val_loss: 0.3307 - val_accuracy: 0.8684\n",
            "Epoch 17/50\n",
            "15/15 [==============================] - 0s 6ms/step - loss: 0.2714 - accuracy: 0.8967 - val_loss: 0.2737 - val_accuracy: 0.8772\n",
            "Epoch 18/50\n",
            "15/15 [==============================] - 0s 7ms/step - loss: 0.3567 - accuracy: 0.8747 - val_loss: 0.3376 - val_accuracy: 0.8772\n",
            "Epoch 19/50\n",
            "15/15 [==============================] - 0s 5ms/step - loss: 0.3034 - accuracy: 0.9011 - val_loss: 0.3138 - val_accuracy: 0.8860\n",
            "Epoch 20/50\n",
            "15/15 [==============================] - 0s 5ms/step - loss: 0.2677 - accuracy: 0.9033 - val_loss: 0.3000 - val_accuracy: 0.8596\n",
            "Epoch 21/50\n",
            "15/15 [==============================] - 0s 6ms/step - loss: 0.2560 - accuracy: 0.9121 - val_loss: 0.2959 - val_accuracy: 0.8772\n",
            "Epoch 22/50\n",
            "15/15 [==============================] - 0s 6ms/step - loss: 0.2562 - accuracy: 0.9077 - val_loss: 0.3011 - val_accuracy: 0.8596\n",
            "Epoch 23/50\n",
            "15/15 [==============================] - 0s 5ms/step - loss: 0.2559 - accuracy: 0.9033 - val_loss: 0.2864 - val_accuracy: 0.8684\n",
            "Epoch 24/50\n",
            "15/15 [==============================] - 0s 5ms/step - loss: 0.2544 - accuracy: 0.8945 - val_loss: 0.2856 - val_accuracy: 0.8772\n",
            "Epoch 25/50\n",
            "15/15 [==============================] - 0s 6ms/step - loss: 0.2702 - accuracy: 0.9099 - val_loss: 0.2846 - val_accuracy: 0.8860\n",
            "Epoch 26/50\n",
            "15/15 [==============================] - 0s 15ms/step - loss: 0.2546 - accuracy: 0.9187 - val_loss: 0.2892 - val_accuracy: 0.8947\n",
            "Epoch 27/50\n",
            "15/15 [==============================] - 0s 12ms/step - loss: 0.2492 - accuracy: 0.9187 - val_loss: 0.2680 - val_accuracy: 0.9123\n",
            "Epoch 28/50\n",
            "15/15 [==============================] - 0s 9ms/step - loss: 0.2330 - accuracy: 0.9297 - val_loss: 0.2903 - val_accuracy: 0.8772\n",
            "Epoch 29/50\n",
            "15/15 [==============================] - 0s 11ms/step - loss: 0.2436 - accuracy: 0.9077 - val_loss: 0.2714 - val_accuracy: 0.9035\n",
            "Epoch 30/50\n",
            "15/15 [==============================] - 0s 14ms/step - loss: 0.2378 - accuracy: 0.9341 - val_loss: 0.2599 - val_accuracy: 0.9123\n",
            "Epoch 31/50\n",
            "15/15 [==============================] - 0s 5ms/step - loss: 0.2707 - accuracy: 0.8945 - val_loss: 0.3079 - val_accuracy: 0.8860\n",
            "Epoch 32/50\n",
            "15/15 [==============================] - 0s 6ms/step - loss: 0.2711 - accuracy: 0.9033 - val_loss: 0.2805 - val_accuracy: 0.9035\n",
            "Epoch 33/50\n",
            "15/15 [==============================] - 0s 5ms/step - loss: 0.2437 - accuracy: 0.9231 - val_loss: 0.2883 - val_accuracy: 0.8947\n",
            "Epoch 34/50\n",
            "15/15 [==============================] - 0s 5ms/step - loss: 0.2367 - accuracy: 0.9341 - val_loss: 0.2915 - val_accuracy: 0.9035\n",
            "Epoch 35/50\n",
            "15/15 [==============================] - 0s 6ms/step - loss: 0.2493 - accuracy: 0.9187 - val_loss: 0.3148 - val_accuracy: 0.8596\n",
            "Epoch 36/50\n",
            "15/15 [==============================] - 0s 5ms/step - loss: 0.2397 - accuracy: 0.9011 - val_loss: 0.2607 - val_accuracy: 0.9035\n",
            "Epoch 37/50\n",
            "15/15 [==============================] - 0s 6ms/step - loss: 0.2604 - accuracy: 0.8835 - val_loss: 0.2800 - val_accuracy: 0.9035\n",
            "Epoch 38/50\n",
            "15/15 [==============================] - 0s 6ms/step - loss: 0.2409 - accuracy: 0.9165 - val_loss: 0.2716 - val_accuracy: 0.8947\n",
            "Epoch 39/50\n",
            "15/15 [==============================] - 0s 6ms/step - loss: 0.2403 - accuracy: 0.9231 - val_loss: 0.2778 - val_accuracy: 0.8947\n",
            "Epoch 40/50\n",
            "15/15 [==============================] - 0s 5ms/step - loss: 0.2259 - accuracy: 0.9187 - val_loss: 0.2728 - val_accuracy: 0.8860\n",
            "Epoch 41/50\n",
            "15/15 [==============================] - 0s 6ms/step - loss: 0.2140 - accuracy: 0.9341 - val_loss: 0.2711 - val_accuracy: 0.9123\n",
            "Epoch 42/50\n",
            "15/15 [==============================] - 0s 5ms/step - loss: 0.2164 - accuracy: 0.9319 - val_loss: 0.2852 - val_accuracy: 0.9123\n",
            "Epoch 43/50\n",
            "15/15 [==============================] - 0s 6ms/step - loss: 0.2404 - accuracy: 0.9055 - val_loss: 0.2956 - val_accuracy: 0.8860\n",
            "Epoch 44/50\n",
            "15/15 [==============================] - 0s 6ms/step - loss: 0.2769 - accuracy: 0.8835 - val_loss: 0.2522 - val_accuracy: 0.9035\n",
            "Epoch 45/50\n",
            "15/15 [==============================] - 0s 5ms/step - loss: 0.2947 - accuracy: 0.8440 - val_loss: 0.2592 - val_accuracy: 0.8772\n",
            "Epoch 46/50\n",
            "15/15 [==============================] - 0s 6ms/step - loss: 0.2845 - accuracy: 0.8901 - val_loss: 0.2609 - val_accuracy: 0.8860\n",
            "Epoch 47/50\n",
            "15/15 [==============================] - 0s 6ms/step - loss: 0.2421 - accuracy: 0.9187 - val_loss: 0.2510 - val_accuracy: 0.9123\n",
            "Epoch 48/50\n",
            "15/15 [==============================] - 0s 5ms/step - loss: 0.2409 - accuracy: 0.9209 - val_loss: 0.2451 - val_accuracy: 0.9035\n",
            "Epoch 49/50\n",
            "15/15 [==============================] - 0s 5ms/step - loss: 0.2241 - accuracy: 0.9341 - val_loss: 0.2440 - val_accuracy: 0.9035\n",
            "Epoch 50/50\n",
            "15/15 [==============================] - 0s 5ms/step - loss: 0.2358 - accuracy: 0.9143 - val_loss: 0.2435 - val_accuracy: 0.9211\n"
          ]
        },
        {
          "output_type": "execute_result",
          "data": {
            "text/plain": [
              "<keras.callbacks.History at 0x7f0e60c21160>"
            ]
          },
          "metadata": {},
          "execution_count": 31
        }
      ]
    },
    {
      "cell_type": "code",
      "source": [
        "## Changing the optimizer\n",
        "\n",
        "## adam\n",
        "\n",
        "model4= Sequential()\n",
        "model4.add(Dense(32,input_shape=(30,),activation=\"relu\"))\n",
        "model4.add(Dense(32,activation=\"relu\"))\n",
        "model4.add(Dense(1,activation=\"sigmoid\"))\n",
        "model4.summary()\n",
        "\n",
        "model4.compile(optimizer = \"adam\", loss = \"binary_crossentropy\", metrics = [\"accuracy\"])\n",
        "model4.fit(x_train,y_train,epochs=10)"
      ],
      "metadata": {
        "colab": {
          "base_uri": "https://localhost:8080/"
        },
        "id": "Tenr6clXvMsO",
        "outputId": "8da68f9f-cc5f-4454-8ed3-aa15745ae2c6"
      },
      "execution_count": 32,
      "outputs": [
        {
          "output_type": "stream",
          "name": "stdout",
          "text": [
            "Model: \"sequential_5\"\n",
            "_________________________________________________________________\n",
            " Layer (type)                Output Shape              Param #   \n",
            "=================================================================\n",
            " dense_24 (Dense)            (None, 32)                992       \n",
            "                                                                 \n",
            " dense_25 (Dense)            (None, 32)                1056      \n",
            "                                                                 \n",
            " dense_26 (Dense)            (None, 1)                 33        \n",
            "                                                                 \n",
            "=================================================================\n",
            "Total params: 2,081\n",
            "Trainable params: 2,081\n",
            "Non-trainable params: 0\n",
            "_________________________________________________________________\n",
            "Epoch 1/10\n",
            "15/15 [==============================] - 1s 3ms/step - loss: 32.9455 - accuracy: 0.3626\n",
            "Epoch 2/10\n",
            "15/15 [==============================] - 0s 3ms/step - loss: 9.2324 - accuracy: 0.3978\n",
            "Epoch 3/10\n",
            "15/15 [==============================] - 0s 3ms/step - loss: 3.0244 - accuracy: 0.3582\n",
            "Epoch 4/10\n",
            "15/15 [==============================] - 0s 3ms/step - loss: 0.6233 - accuracy: 0.6857\n",
            "Epoch 5/10\n",
            "15/15 [==============================] - 0s 3ms/step - loss: 0.5562 - accuracy: 0.7736\n",
            "Epoch 6/10\n",
            "15/15 [==============================] - 0s 3ms/step - loss: 0.3332 - accuracy: 0.8879\n",
            "Epoch 7/10\n",
            "15/15 [==============================] - 0s 3ms/step - loss: 0.2879 - accuracy: 0.9011\n",
            "Epoch 8/10\n",
            "15/15 [==============================] - 0s 3ms/step - loss: 0.3186 - accuracy: 0.8857\n",
            "Epoch 9/10\n",
            "15/15 [==============================] - 0s 3ms/step - loss: 0.3299 - accuracy: 0.8857\n",
            "Epoch 10/10\n",
            "15/15 [==============================] - 0s 3ms/step - loss: 0.2937 - accuracy: 0.8945\n"
          ]
        },
        {
          "output_type": "execute_result",
          "data": {
            "text/plain": [
              "<keras.callbacks.History at 0x7f0e5c4ac6a0>"
            ]
          },
          "metadata": {},
          "execution_count": 32
        }
      ]
    },
    {
      "cell_type": "code",
      "source": [
        "### rmsprop\n",
        "\n",
        "model5= Sequential()\n",
        "model5.add(Dense(32,input_shape=(30,),activation=\"relu\"))\n",
        "model5.add(Dense(32,activation=\"relu\"))\n",
        "model5.add(Dense(1,activation=\"sigmoid\"))\n",
        "model5.summary()\n",
        "\n",
        "model5.compile(optimizer = \"rmsprop\", loss = \"binary_crossentropy\", metrics = [\"accuracy\"])\n",
        "model5.fit(x_train,y_train,epochs=10)"
      ],
      "metadata": {
        "colab": {
          "base_uri": "https://localhost:8080/"
        },
        "id": "rVwGsh_dwAv2",
        "outputId": "aa0b2998-9c64-4249-ec90-7daed209cb99"
      },
      "execution_count": 33,
      "outputs": [
        {
          "output_type": "stream",
          "name": "stdout",
          "text": [
            "Model: \"sequential_6\"\n",
            "_________________________________________________________________\n",
            " Layer (type)                Output Shape              Param #   \n",
            "=================================================================\n",
            " dense_27 (Dense)            (None, 32)                992       \n",
            "                                                                 \n",
            " dense_28 (Dense)            (None, 32)                1056      \n",
            "                                                                 \n",
            " dense_29 (Dense)            (None, 1)                 33        \n",
            "                                                                 \n",
            "=================================================================\n",
            "Total params: 2,081\n",
            "Trainable params: 2,081\n",
            "Non-trainable params: 0\n",
            "_________________________________________________________________\n",
            "Epoch 1/10\n",
            "15/15 [==============================] - 1s 3ms/step - loss: 1.6541 - accuracy: 0.7473\n",
            "Epoch 2/10\n",
            "15/15 [==============================] - 0s 3ms/step - loss: 0.9096 - accuracy: 0.8066\n",
            "Epoch 3/10\n",
            "15/15 [==============================] - 0s 3ms/step - loss: 1.0762 - accuracy: 0.7692\n",
            "Epoch 4/10\n",
            "15/15 [==============================] - 0s 4ms/step - loss: 0.4108 - accuracy: 0.8484\n",
            "Epoch 5/10\n",
            "15/15 [==============================] - 0s 3ms/step - loss: 1.0052 - accuracy: 0.7780\n",
            "Epoch 6/10\n",
            "15/15 [==============================] - 0s 3ms/step - loss: 0.5802 - accuracy: 0.8505\n",
            "Epoch 7/10\n",
            "15/15 [==============================] - 0s 3ms/step - loss: 0.6404 - accuracy: 0.8396\n",
            "Epoch 8/10\n",
            "15/15 [==============================] - 0s 3ms/step - loss: 0.6446 - accuracy: 0.8352\n",
            "Epoch 9/10\n",
            "15/15 [==============================] - 0s 3ms/step - loss: 0.5308 - accuracy: 0.8659\n",
            "Epoch 10/10\n",
            "15/15 [==============================] - 0s 3ms/step - loss: 0.8083 - accuracy: 0.8198\n"
          ]
        },
        {
          "output_type": "execute_result",
          "data": {
            "text/plain": [
              "<keras.callbacks.History at 0x7f0e5c3096a0>"
            ]
          },
          "metadata": {},
          "execution_count": 33
        }
      ]
    },
    {
      "cell_type": "code",
      "source": [],
      "metadata": {
        "id": "vR2VHBuswOmP"
      },
      "execution_count": null,
      "outputs": []
    }
  ]
}